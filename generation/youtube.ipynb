{
 "cells": [
  {
   "cell_type": "code",
   "execution_count": 3,
   "metadata": {},
   "outputs": [
    {
     "name": "stdout",
     "output_type": "stream",
     "text": [
      "{'result': [{'id': 'jIIuzB11dsA', 'thumbnails': {'normal': [{'url': 'https://i.ytimg.com/vi/jIIuzB11dsA/hqdefault.jpg?sqp=-oaymwEbCKgBEF5IVfKriqkDDggBFQAAiEIYAXABwAEG&rs=AOn4CLA_SiSLuOpfCNPQdSzPbivIdvKJqw', 'width': 168, 'height': 94}, {'url': 'https://i.ytimg.com/vi/jIIuzB11dsA/hqdefault.jpg?sqp=-oaymwEbCMQBEG5IVfKriqkDDggBFQAAiEIYAXABwAEG&rs=AOn4CLBzrpe5nzeIznNUjgdmopygXboZRw', 'width': 196, 'height': 110}, {'url': 'https://i.ytimg.com/vi/jIIuzB11dsA/hqdefault.jpg?sqp=-oaymwEcCPYBEIoBSFXyq4qpAw4IARUAAIhCGAFwAcABBg==&rs=AOn4CLD6hZArUaeylQXfKJjK8j2glQE2yg', 'width': 246, 'height': 138}, {'url': 'https://i.ytimg.com/vi/jIIuzB11dsA/hqdefault.jpg?sqp=-oaymwEcCNACELwBSFXyq4qpAw4IARUAAIhCGAFwAcABBg==&rs=AOn4CLCdTWYxfHaco4RR5PLoaZNcVTzuYg', 'width': 336, 'height': 188}], 'rich': None}, 'title': 'Harry Styles: NPR Music Tiny Desk Concert', 'descriptionSnippet': 'This performance was recorded on February 25, 2020. We will continue releasing Tiny Desk videos of shows that had already been taped. In light of current events, NPR is postponing new live...', 'uri': '/watch?v=jIIuzB11dsA', 'views': {'precise': '27,529,156 views', 'simple': '27M views', 'approximate': '27 million views'}, 'duration': {'simpleText': '19:14', 'text': '19 minutes, 14 seconds'}, 'published': '3 years ago', 'channel': {'name': 'NPR Music', 'thumbnails': [{'url': 'https://yt3.googleusercontent.com/0xQ36bByrRGcbiCG2a6Xb-pft78OAm0GW-5vRjC_uPGWD1mfAK8w7J-IjL4NbZGKbimh3QE1Zg=s68-c-k-c0x00ffffff-no-rj', 'width': 68, 'height': 68}]}, 'type': 'video'}, {'id': 'F4neLJQC1_E', 'thumbnails': {'normal': [{'url': 'https://i.ytimg.com/vi/F4neLJQC1_E/hqdefault.jpg?sqp=-oaymwEbCKgBEF5IVfKriqkDDggBFQAAiEIYAXABwAEG&rs=AOn4CLAUp96M5dHoCMj4ab9NWVi2KsNrLw', 'width': 168, 'height': 94}, {'url': 'https://i.ytimg.com/vi/F4neLJQC1_E/hqdefault.jpg?sqp=-oaymwEbCMQBEG5IVfKriqkDDggBFQAAiEIYAXABwAEG&rs=AOn4CLCI6xTgW5Jah1wXp6UoieVJ6XmHZQ', 'width': 196, 'height': 110}, {'url': 'https://i.ytimg.com/vi/F4neLJQC1_E/hqdefault.jpg?sqp=-oaymwEcCPYBEIoBSFXyq4qpAw4IARUAAIhCGAFwAcABBg==&rs=AOn4CLA2iLZXUkvu8QvTOkWwTkRSq6WTBA', 'width': 246, 'height': 138}, {'url': 'https://i.ytimg.com/vi/F4neLJQC1_E/hqdefault.jpg?sqp=-oaymwEcCNACELwBSFXyq4qpAw4IARUAAIhCGAFwAcABBg==&rs=AOn4CLDjyTmlER1mWRFymAnziXUpvI42XQ', 'width': 336, 'height': 188}], 'rich': None}, 'title': 'Dua Lipa: Tiny Desk (Home) Concert', 'descriptionSnippet': \"The Tiny Desk is working from home for the foreseeable future. Introducing NPR Music's Tiny Desk (home) concerts, bringing you performances from across the country and the world. It's the same...\", 'uri': '/watch?v=F4neLJQC1_E', 'views': {'precise': '121,678,258 views', 'simple': '121M views', 'approximate': '121 million views'}, 'duration': {'simpleText': '15:58', 'text': '15 minutes, 58 seconds'}, 'published': '3 years ago', 'channel': {'name': 'NPR Music', 'thumbnails': [{'url': 'https://yt3.googleusercontent.com/0xQ36bByrRGcbiCG2a6Xb-pft78OAm0GW-5vRjC_uPGWD1mfAK8w7J-IjL4NbZGKbimh3QE1Zg=s68-c-k-c0x00ffffff-no-rj', 'width': 68, 'height': 68}]}, 'type': 'video'}, {'id': 'FvVnP8G6ITs', 'thumbnails': {'normal': [{'url': 'https://i.ytimg.com/vi/FvVnP8G6ITs/hqdefault.jpg?sqp=-oaymwEbCKgBEF5IVfKriqkDDggBFQAAiEIYAXABwAEG&rs=AOn4CLAfvaYSvPjBcFg3xZ0kZJfpWw0Zlg', 'width': 168, 'height': 94}, {'url': 'https://i.ytimg.com/vi/FvVnP8G6ITs/hqdefault.jpg?sqp=-oaymwEbCMQBEG5IVfKriqkDDggBFQAAiEIYAXABwAEG&rs=AOn4CLDXyknsDir1b7f7Kfyhh_Eh9f5uPQ', 'width': 196, 'height': 110}, {'url': 'https://i.ytimg.com/vi/FvVnP8G6ITs/hqdefault.jpg?sqp=-oaymwEcCPYBEIoBSFXyq4qpAw4IARUAAIhCGAFwAcABBg==&rs=AOn4CLChNc8xKHafRWtbyX1cKgPQ7fgnbw', 'width': 246, 'height': 138}, {'url': 'https://i.ytimg.com/vi/FvVnP8G6ITs/hqdefault.jpg?sqp=-oaymwEcCNACELwBSFXyq4qpAw4IARUAAIhCGAFwAcABBg==&rs=AOn4CLDiUvIGMqKsazC9zMs5LATeTm9b_w', 'width': 336, 'height': 188}], 'rich': None}, 'title': 'Taylor Swift: NPR Music Tiny Desk Concert', 'descriptionSnippet': 'Watch Taylor Swift play \"The Man\", \"Lover\", \"Death by a Thousand Cuts\" and \"All Too Well\" at the Tiny Desk.\\n\\nMore from NPR Music: \\nTiny Desk Concerts: https://www.npr.org/tinydesk\\nTwitter:...', 'uri': '/watch?v=FvVnP8G6ITs', 'views': {'precise': '20,375,031 views', 'simple': '20M views', 'approximate': '20 million views'}, 'duration': {'simpleText': '28:59', 'text': '28 minutes, 59 seconds'}, 'published': '4 years ago', 'channel': {'name': 'NPR Music', 'thumbnails': [{'url': 'https://yt3.googleusercontent.com/0xQ36bByrRGcbiCG2a6Xb-pft78OAm0GW-5vRjC_uPGWD1mfAK8w7J-IjL4NbZGKbimh3QE1Zg=s68-c-k-c0x00ffffff-no-rj', 'width': 68, 'height': 68}]}, 'type': 'video'}, {'id': 'QrR_gm6RqCo', 'thumbnails': {'normal': [{'url': 'https://i.ytimg.com/vi/QrR_gm6RqCo/hqdefault.jpg?sqp=-oaymwEbCKgBEF5IVfKriqkDDggBFQAAiEIYAXABwAEG&rs=AOn4CLCXqDoW7gqPRcLECO4e5meDBwwIYg', 'width': 168, 'height': 94}, {'url': 'https://i.ytimg.com/vi/QrR_gm6RqCo/hqdefault.jpg?sqp=-oaymwEbCMQBEG5IVfKriqkDDggBFQAAiEIYAXABwAEG&rs=AOn4CLBd5KF5ojnSgNTajIQTBgpDri4kCQ', 'width': 196, 'height': 110}, {'url': 'https://i.ytimg.com/vi/QrR_gm6RqCo/hqdefault.jpg?sqp=-oaymwEcCPYBEIoBSFXyq4qpAw4IARUAAIhCGAFwAcABBg==&rs=AOn4CLDFP9rDcmpCV_y4_N2JzlS9qqfx6g', 'width': 246, 'height': 138}, {'url': 'https://i.ytimg.com/vi/QrR_gm6RqCo/hqdefault.jpg?sqp=-oaymwEcCNACELwBSFXyq4qpAw4IARUAAIhCGAFwAcABBg==&rs=AOn4CLDt3qfrVDZqX_bKjqoSnMD2Ahe6sw', 'width': 336, 'height': 188}], 'rich': None}, 'title': 'Mac Miller: NPR Music Tiny Desk Concert', 'descriptionSnippet': 'Watch Mac Miller play \"Small Worlds\", \"What\\'s the Use? (Feat. Thundercat)\" and \"2009\" at the Tiny Desk.\\n\\nDid you know you can watch new Tiny Desk Concerts on npr.org ONE WEEK before they go...', 'uri': '/watch?v=QrR_gm6RqCo', 'views': {'precise': '113,538,694 views', 'simple': '113M views', 'approximate': '113 million views'}, 'duration': {'simpleText': '17:10', 'text': '17 minutes, 10 seconds'}, 'published': '5 years ago', 'channel': {'name': 'NPR Music', 'thumbnails': [{'url': 'https://yt3.googleusercontent.com/0xQ36bByrRGcbiCG2a6Xb-pft78OAm0GW-5vRjC_uPGWD1mfAK8w7J-IjL4NbZGKbimh3QE1Zg=s68-c-k-c0x00ffffff-no-rj', 'width': 68, 'height': 68}]}, 'type': 'video'}]}\n"
     ]
    }
   ],
   "source": [
    "from youtubesearchpython import VideosSearch, ChannelSearch\n",
    "\n",
    "\n",
    "search = ChannelSearch('Watermelon Sugar', \"UC4eYXhJI4-7wSWc8UNRwD4A\")\n",
    "print(search.result())\n",
    "\n",
    "\n"
   ]
  },
  {
   "cell_type": "code",
   "execution_count": null,
   "metadata": {},
   "outputs": [],
   "source": []
  },
  {
   "cell_type": "code",
   "execution_count": null,
   "metadata": {},
   "outputs": [],
   "source": []
  }
 ],
 "metadata": {
  "kernelspec": {
   "display_name": "CS98",
   "language": "python",
   "name": "python3"
  },
  "language_info": {
   "codemirror_mode": {
    "name": "ipython",
    "version": 3
   },
   "file_extension": ".py",
   "mimetype": "text/x-python",
   "name": "python",
   "nbconvert_exporter": "python",
   "pygments_lexer": "ipython3",
   "version": "3.10.13"
  }
 },
 "nbformat": 4,
 "nbformat_minor": 2
}

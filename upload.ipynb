{
 "cells": [
  {
   "cell_type": "code",
   "execution_count": null,
   "metadata": {},
   "outputs": [],
   "source": [
    "## This file produces data for the model to use\n",
    "\n",
    "import os\n",
    "import json\n",
    "from dotenv import load_dotenv\n",
    "import torch\n",
    "\n",
    "## Load Config\n",
    "with open('config/videos.json') as config_file:\n",
    "    videos = json.load(config_file)\n",
    "with open('config/name_to_url.json') as config_file:\n",
    "    name_to_url = json.load(config_file)\n",
    "\n",
    "load_dotenv(dotenv_path=\".env\")"
   ]
  },
  {
   "cell_type": "code",
   "execution_count": null,
   "metadata": {},
   "outputs": [],
   "source": [
    "from pinecone import Pinecone\n",
    "\n",
    "pc = Pinecone(api_key=os.environ[\"PINECONE_KEY\"])\n",
    "index = pc.Index(\"index1\")"
   ]
  },
  {
   "cell_type": "code",
   "execution_count": null,
   "metadata": {},
   "outputs": [],
   "source": [
    "oneshot = \"hashing\"\n",
    "path_to_embeddings = f'data/outputs/{oneshot}/embeddings'\n",
    "mode = \"max\""
   ]
  },
  {
   "cell_type": "code",
   "execution_count": null,
   "metadata": {},
   "outputs": [],
   "source": [
    "# Prepare embeddings for upload\n",
    "\n",
    "vectors = []\n",
    "for embedding_file in os.listdir(path_to_embeddings):\n",
    "    if not embedding_file.endswith('.pt'):\n",
    "        continue\n",
    "    if mode not in embedding_file:\n",
    "        continue\n",
    "\n",
    "    name = embedding_file[4:-3]\n",
    "    metadata = {\"name\": name, \"url\": name_to_url[name]}\n",
    "    tensor = torch.load(f'{path_to_embeddings}/{embedding_file}').to('cpu').numpy().tolist()\n",
    "    vectors.append({\"values\": tensor, \"id\": name, \"metadata\": metadata})\n",
    "    print(f'Loaded {name}, metadata: {metadata}')\n",
    "    del tensor\n",
    "\n",
    "    torch.cuda.empty_cache()"
   ]
  },
  {
   "cell_type": "code",
   "execution_count": null,
   "metadata": {},
   "outputs": [],
   "source": [
    "# Upload\n",
    "\n",
    "index.upsert(vectors=vectors)"
   ]
  },
  {
   "cell_type": "code",
   "execution_count": null,
   "metadata": {},
   "outputs": [],
   "source": [
    "query_mode = \"max\"\n",
    "with open(f'data/outputs/{oneshot}/results/{mode}-v_{query_mode}-q.txt', 'w') as f:\n",
    "    for embedding_file in os.listdir(path_to_embeddings):\n",
    "        if not embedding_file.endswith('.pt'):\n",
    "            continue\n",
    "        if query_mode not in embedding_file:\n",
    "            continue\n",
    "        name = embedding_file[4:-3]\n",
    "        query = torch.load(f'{path_to_embeddings}/{embedding_file}').to('cpu').numpy().tolist()\n",
    "        response = index.query(vector=query, top_k=5, include_values=True, include_metadata=True)\n",
    "        \n",
    "        f.write(f'Querying {name}:\\n')\n",
    "        for i, obj in enumerate(response[\"matches\"]):\n",
    "            f.write(f'    Rank: {i+1}, Metadata: {obj[\"metadata\"]}, Distance:, Score: {obj[\"score\"]}\\n')\n",
    "\n"
   ]
  },
  {
   "cell_type": "code",
   "execution_count": null,
   "metadata": {},
   "outputs": [],
   "source": []
  }
 ],
 "metadata": {
  "kernelspec": {
   "display_name": "ml-engine",
   "language": "python",
   "name": "python3"
  },
  "language_info": {
   "codemirror_mode": {
    "name": "ipython",
    "version": 3
   },
   "file_extension": ".py",
   "mimetype": "text/x-python",
   "name": "python",
   "nbconvert_exporter": "python",
   "pygments_lexer": "ipython3",
   "version": "3.10.12"
  }
 },
 "nbformat": 4,
 "nbformat_minor": 2
}

{
 "cells": [
  {
   "cell_type": "code",
   "execution_count": null,
   "metadata": {},
   "outputs": [],
   "source": [
    "import torch\n",
    "import os\n",
    "\n",
    "# https://www.youtube.com/watch?v=E5kzAbD8D0w, DPO\n",
    "# https://www.youtube.com/watch?v=wybjsKtA9hI, SQL Backend\n",
    "# https://www.youtube.com/watch?v=CZw57SIwgiE, Threads and Connections\n",
    "# https://www.youtube.com/watch?v=p6wwj0ozifw, Hashing\n",
    "# https://www.youtube.com/watch?v=4NB0NDtOwIQ, sys_design\n",
    "# https://www.youtube.com/watch?v=kxT8-C1vmd4, zig\n",
    "# https://www.youtube.com/watch?v=5C_HPTJg5ek, rust\n",
    "# https://www.youtube.com/watch?v=HyWYpM_S-2c, React\n",
    "# https://www.youtube.com/watch?v=MnpuK0MK4yo, react_svelte\n",
    "# https://www.youtube.com/watch?v=mE7IDf2SmJg, stanford_lecture_rag\n",
    "# https://www.youtube.com/watch?v=utYC2tKDdoQ, umich_os_locks\n",
    "# https://www.youtube.com/watch?v=YAgjfMR9R_M, umich_dl_attention\n",
    "# https://www.youtube.com/watch?v=dsHyUgGMht0, k_fang_github_break \n",
    "\n",
    "\n",
    "videos = [\n",
    "    [\"https://www.youtube.com/watch?v=UiX8K-xBUpE\", \"UiX8K-xBUpE\", \"mixtral8x7b\"],\n",
    "    [\"https://www.youtube.com/watch?v=Xdhe-meS30A\", \"Xdhe-meS30A\", \"catan\"],\n",
    "    [\"https://www.youtube.com/watch?v=00AQjBDM46Q\", \"00AQjBDM46Q\", \"mlops_llm_eval\"],\n",
    "    [\"https://www.youtube.com/watch?v=5ChkQKUzDCs\", \"5ChkQKUzDCs\", \"typescript_fireship\"],\n",
    "    [\"https://www.youtube.com/watch?v=J0NuOlA2xDc\", \"J0NuOlA2xDc\", \"localized_deployment\"],\n",
    "    [\"https://www.youtube.com/watch?v=E5kzAbD8D0w\", \"E5kzAbD8D0w\", \"dpo\"],\n",
    "    [\"https://www.youtube.com/watch?v=wybjsKtA9hI\", \"wybjsKtA9hI\", \"sql_backend\"],\n",
    "    [\"https://www.youtube.com/watch?v=CZw57SIwgiE\", \"CZw57SIwgiE\", \"threads_connections\"],\n",
    "    [\"https://www.youtube.com/watch?v=p6wwj0ozifw\", \"p6wwj0ozifw\", \"hashing\"],\n",
    "    # [\"https://www.youtube.com/watch?v=4NB0NDtOwIQ\", \"4NB0NDtOwIQ\", \"sys_design\"], // Note this failed due to not having a timestamp every line\n",
    "    [\"https://www.youtube.com/watch?v=kxT8-C1vmd4\", \"kxT8-C1vmd4\", \"zig\"],\n",
    "    [\"https://www.youtube.com/watch?v=5C_HPTJg5ek\", \"5C_HPTJg5ek\", \"rust\"],\n",
    "    [\"https://www.youtube.com/watch?v=HyWYpM_S-2c\", \"HyWYpM_S-2c\", \"react\"],\n",
    "    [\"https://www.youtube.com/watch?v=MnpuK0MK4yo\", \"MnpuK0MK4yo\", \"react_svelte\"],\n",
    "]\n",
    "\n",
    "name_to_url = {\n",
    "    \"mixtral8x7b\": \"https://www.youtube.com/watch?v=UiX8K-xBUpE\",\n",
    "    \"catan\": \"https://www.youtube.com/watch?v=Xdhe-meS30A\",\n",
    "    \"mlops_llm_eval\": \"https://www.youtube.com/watch?v=00AQjBDM46Q\",\n",
    "    \"typescript_fireship\": \"https://www.youtube.com/watch?v=5ChkQKUzDCs\",\n",
    "    \"localized_deployment\": \"https://www.youtube.com/watch?v=J0NuOlA2xDc\",\n",
    "    \"dpo\": \"https://www.youtube.com/watch?v=E5kzAbD8D0w\",\n",
    "    \"sql_backend\": \"https://www.youtube.com/watch?v=wybjsKtA9hI\",\n",
    "    \"threads_connections\": \"https://www.youtube.com/watch?v=CZw57SIwgiE\",\n",
    "    \"hashing\": \"https://www.youtube.com/watch?v=p6wwj0ozifw\",\n",
    "    \"zig\": \"https://www.youtube.com/watch?v=kxT8-C1vmd4\",\n",
    "    \"rust\": \"https://www.youtube.com/watch?v=5C_HPTJg5ek\",\n",
    "    \"react\": \"https://www.youtube.com/watch?v=HyWYpM_S-2c\",\n",
    "    \"react_svelte\": \"https://www.youtube.com/watch?v=MnpuK0MK4yo\",\n",
    "}\n"
   ]
  },
  {
   "cell_type": "code",
   "execution_count": null,
   "metadata": {},
   "outputs": [],
   "source": [
    "from pinecone import Pinecone\n",
    "\n",
    "pc = Pinecone(api_key=\"git \")\n",
    "index = pc.Index(\"inftest\")"
   ]
  },
  {
   "cell_type": "code",
   "execution_count": null,
   "metadata": {},
   "outputs": [],
   "source": [
    "vectors = []\n",
    "for embedding_file in os.listdir('data/embeddings'):\n",
    "    if not embedding_file.endswith('.pt'):\n",
    "        continue\n",
    "    name = embedding_file[:-3]\n",
    "    metadata = {\"name\": name, \"url\": name_to_url[name]}\n",
    "    tensor = torch.load(f'data/embeddings/{embedding_file}')\n",
    "    # max_pooled = torch.max(tensor, 1).squeeze(0)\n",
    "    avg_pooled = torch.mean(tensor, 1).squeeze(0)\n",
    "    vectors.append({\"values\": avg_pooled.numpy().tolist(), \"id\": name, \"metadata\": metadata})\n"
   ]
  },
  {
   "cell_type": "code",
   "execution_count": null,
   "metadata": {},
   "outputs": [],
   "source": [
    "index.upsert(vectors=vectors)"
   ]
  },
  {
   "cell_type": "code",
   "execution_count": null,
   "metadata": {},
   "outputs": [],
   "source": [
    "\n",
    "for embedding_file in os.listdir('data/embeddings'):\n",
    "    if not embedding_file.endswith('.pt'):\n",
    "        continue\n",
    "    name = embedding_file[:-3]\n",
    "    # Tensor is shape[1, 968, 4096]\n",
    "    tensor = torch.load(f'data/embeddings/{embedding_file}')\n",
    "    max_pooled = torch.max(tensor, 1)\n",
    "    average_pool = torch.mean(tensor, 1)\n",
    "    query = average_pool.squeeze(0).numpy().tolist()\n",
    "    response = index.query(vector=query, top_k=5, include_values=True, include_metadata=True)\n",
    "    print(f'Querying {name}:')\n",
    "    for i, obj in enumerate(response[\"matches\"]):\n",
    "        print(f'    Rank: {i+1}, Metadata: {obj[\"metadata\"]}, Distance:, Score: {obj[\"score\"]}')\n"
   ]
  }
 ],
 "metadata": {
  "kernelspec": {
   "display_name": "ml-engine",
   "language": "python",
   "name": "python3"
  },
  "language_info": {
   "codemirror_mode": {
    "name": "ipython",
    "version": 3
   },
   "file_extension": ".py",
   "mimetype": "text/x-python",
   "name": "python",
   "nbconvert_exporter": "python",
   "pygments_lexer": "ipython3",
   "version": "3.10.13"
  }
 },
 "nbformat": 4,
 "nbformat_minor": 2
}

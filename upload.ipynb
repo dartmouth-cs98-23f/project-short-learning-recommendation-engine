{
 "cells": [
  {
   "cell_type": "code",
   "execution_count": null,
   "metadata": {},
   "outputs": [],
   "source": [
    "## This file produces data for the model to use\n",
    "\n",
    "import os\n",
    "import json\n",
    "from dotenv import load_dotenv\n",
    "import torch\n",
    "\n",
    "## Load Config\n",
    "with open('config/videos.json') as config_file:\n",
    "    videos = json.load(config_file)\n",
    "with open('config/name_to_url.json') as config_file:\n",
    "    name_to_url = json.load(config_file)\n",
    "\n",
    "load_dotenv(dotenv_path=\".env\")"
   ]
  },
  {
   "cell_type": "code",
   "execution_count": null,
   "metadata": {},
   "outputs": [],
   "source": [
    "from pinecone import Pinecone\n",
    "\n",
    "pc = Pinecone(api_key=os.environ[\"PINECONE_KEY\"])\n",
    "index = pc.Index(\"inftest\")"
   ]
  },
  {
   "cell_type": "code",
   "execution_count": null,
   "metadata": {},
   "outputs": [],
   "source": [
    "vectors = []\n",
    "for embedding_file in os.listdir('data/embeddings'):\n",
    "    if not embedding_file.endswith('.pt'):\n",
    "        continue\n",
    "    name = embedding_file[:-3]\n",
    "    metadata = {\"name\": name, \"url\": name_to_url[name]}\n",
    "    tensor = torch.load(f'data/embeddings/{embedding_file}')\n",
    "    # max_pooled = torch.max(tensor, 1).squeeze(0)\n",
    "    avg_pooled = torch.mean(tensor, 1).squeeze(0)\n",
    "    vectors.append({\"values\": avg_pooled.numpy().tolist(), \"id\": name, \"metadata\": metadata})\n"
   ]
  },
  {
   "cell_type": "code",
   "execution_count": null,
   "metadata": {},
   "outputs": [],
   "source": [
    "index.upsert(vectors=vectors)"
   ]
  },
  {
   "cell_type": "code",
   "execution_count": null,
   "metadata": {},
   "outputs": [],
   "source": [
    "\n",
    "for embedding_file in os.listdir('data/embeddings'):\n",
    "    if not embedding_file.endswith('.pt'):\n",
    "        continue\n",
    "    name = embedding_file[:-3]\n",
    "    # Tensor is shape[1, 968, 4096]\n",
    "    tensor = torch.load(f'data/embeddings/{embedding_file}')\n",
    "    max_pooled = torch.max(tensor, 1)\n",
    "    average_pool = torch.mean(tensor, 1)\n",
    "    query = max_pooled.squeeze(0).numpy().tolist()\n",
    "    response = index.query(vector=query, top_k=5, include_values=True, include_metadata=True)\n",
    "    print(f'Querying {name}:')\n",
    "    for i, obj in enumerate(response[\"matches\"]):\n",
    "        print(f'    Rank: {i+1}, Metadata: {obj[\"metadata\"]}, Distance:, Score: {obj[\"score\"]}')\n"
   ]
  },
  {
   "cell_type": "code",
   "execution_count": null,
   "metadata": {},
   "outputs": [],
   "source": []
  }
 ],
 "metadata": {
  "kernelspec": {
   "display_name": "ml-engine",
   "language": "python",
   "name": "python3"
  },
  "language_info": {
   "codemirror_mode": {
    "name": "ipython",
    "version": 3
   },
   "file_extension": ".py",
   "mimetype": "text/x-python",
   "name": "python",
   "nbconvert_exporter": "python",
   "pygments_lexer": "ipython3",
   "version": "3.10.13"
  }
 },
 "nbformat": 4,
 "nbformat_minor": 2
}

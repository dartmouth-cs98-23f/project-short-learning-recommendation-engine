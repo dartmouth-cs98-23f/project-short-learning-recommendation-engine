{
 "cells": [
  {
   "cell_type": "code",
   "execution_count": 1,
   "metadata": {},
   "outputs": [
    {
     "data": {
      "text/plain": [
       "True"
      ]
     },
     "execution_count": 1,
     "metadata": {},
     "output_type": "execute_result"
    }
   ],
   "source": [
    "## This file produces data for the model to use\n",
    "\n",
    "import os\n",
    "import json\n",
    "from dotenv import load_dotenv\n",
    "import torch\n",
    "import time\n",
    "import math, random\n",
    "from pymongo import MongoClient\n",
    "from bson.objectid import ObjectId\n",
    "from pymongo.server_api import ServerApi\n",
    "\n",
    "## Load Config\n",
    "with open('config/videos.json') as config_file:\n",
    "    videos = json.load(config_file)\n",
    "with open('config/name_to_url.json') as config_file:\n",
    "    name_to_url = json.load(config_file)\n",
    "with open('config/alltopics.json') as config_file:\n",
    "    alltopics = json.load(config_file)\n",
    "\n",
    "load_dotenv(dotenv_path=\"/home/ubuntu/InferenceTest1/rec/inference/.env\")\n"
   ]
  },
  {
   "cell_type": "code",
   "execution_count": 13,
   "metadata": {},
   "outputs": [],
   "source": [
    "from pinecone import Pinecone\n",
    "\n",
    "pc = Pinecone(api_key=os.environ[\"PINECONE_KEY\"])\n",
    "index = pc.Index(\"pretechnigala\")\n",
    "DB_NAME = \"preTechnigalaClean_db\"\n",
    "COLLECTION_NAME = \"video_metadata\"\n",
    "MONGO_DB_CLIENT = MongoClient(os.getenv(\"MONGODB_URI\"), server_api=ServerApi('1'))\n",
    "OUTPUT_DIR = \"/home/ubuntu/InferenceTest1/rec/inference/data/validation\"\n",
    "QUERY_MODE = \"max\"\n",
    "VECTOR_MODE = \"max\"\n",
    "PATH_TO_EMBEDDINGS = f\"/home/ubuntu/InferenceTest1/rec/inference/data/validation/embeddings/{QUERY_MODE}\""
   ]
  },
  {
   "cell_type": "code",
   "execution_count": 11,
   "metadata": {},
   "outputs": [],
   "source": [
    "#### PERFORMS QUERIES BASED ON JUST THE VIDEO EMBEDDINGS\n",
    "with open(f'{OUTPUT_DIR}/video_query/{VECTOR_MODE}-v_{QUERY_MODE}-q.txt', 'w') as f:\n",
    "    for embedding_file in os.listdir(PATH_TO_EMBEDDINGS):\n",
    "        if not embedding_file.endswith('.pt'):\n",
    "            continue\n",
    "        name = embedding_file[4:-3]\n",
    "        query = torch.load(f'{PATH_TO_EMBEDDINGS}/{embedding_file}').to('cpu').numpy().tolist()\n",
    "        response = index.query(vector=query, top_k=5, include_values=True, include_metadata=True, filter={\"mode\": f\"{VECTOR_MODE}_pool\"})\n",
    "        \n",
    "        f.write(f'Querying {name}:\\n')\n",
    "        for i, obj in enumerate(response[\"matches\"]):\n",
    "            youtubeURL = \"None\"\n",
    "            doc = MONGO_DB_CLIENT[DB_NAME][COLLECTION_NAME].find_one({\"_id\": ObjectId(obj[\"metadata\"][\"videoID\"])})\n",
    "            if doc:\n",
    "                youtubeURL = doc[\"youtubeURL\"]\n",
    "            f.write(f'    Rank: {i+1}, Distance: {obj[\"score\"]}\\n')\n",
    "            f.write(f'        Title: {obj[\"metadata\"][\"title\"]}, URL: {youtubeURL}\\n')\n",
    "            f.write(f'        Topics: {[alltopics[topic] for topic in obj[\"metadata\"][\"topics\"]]}\\n')\n",
    "            f.write(f'        infTopics: {obj[\"metadata\"][\"inferenceTopics\"]} \\n')\n",
    "            f.write(f'        infComplexities: {obj[\"metadata\"][\"inferenceComplexities\"]}\\n')"
   ]
  },
  {
   "cell_type": "code",
   "execution_count": 14,
   "metadata": {},
   "outputs": [
    {
     "name": "stdout",
     "output_type": "stream",
     "text": [
      "Attempt 1 of 10 complete\n",
      "Attempt 2 of 10 complete\n",
      "Attempt 3 of 10 complete\n",
      "Attempt 4 of 10 complete\n",
      "Attempt 5 of 10 complete\n",
      "Attempt 6 of 10 complete\n",
      "Attempt 7 of 10 complete\n",
      "Attempt 8 of 10 complete\n",
      "Attempt 9 of 10 complete\n",
      "Attempt 10 of 10 complete\n"
     ]
    }
   ],
   "source": [
    "ATTEMPT = 0\n",
    "HISTORY_LENGTH = 5\n",
    "QUERIES = 10\n",
    "\n",
    "os.makedirs(f'{OUTPUT_DIR}/history_query/{VECTOR_MODE}-v_{QUERY_MODE}-q', exist_ok=True)\n",
    "all_vectors = [] #NAME, VECTOR\n",
    "for embedding_file in os.listdir(PATH_TO_EMBEDDINGS):\n",
    "    if not embedding_file.endswith('.pt'):\n",
    "        continue\n",
    "    all_vectors.append((embedding_file[4:-3], torch.load(f'{PATH_TO_EMBEDDINGS}/{embedding_file}').to('cpu')))\n",
    "\n",
    "## Randomly make a \"watch history\" by taking the average of 5 random videos\n",
    "with open(f'{OUTPUT_DIR}/history_query/{VECTOR_MODE}-v_{QUERY_MODE}-q/{ATTEMPT}.yaml', 'w') as f:\n",
    "    for run in range(QUERIES):\n",
    "        history = random.sample(all_vectors, HISTORY_LENGTH)\n",
    "        ## Query is the average pool of the history vectors\n",
    "        query = torch.mean(torch.stack([vec for name, vec in history]), dim=0).numpy().tolist()\n",
    "\n",
    "        response = index.query(vector=query, top_k=5, include_values=True, include_metadata=True, filter={\"mode\": f\"{VECTOR_MODE}_pool\"})\n",
    "        f.write(f'Querying History {run}. Videos: {[name for name, vec in history]}\\n')\n",
    "        for i, obj in enumerate(response[\"matches\"]):\n",
    "            youtubeURL = \"None\"\n",
    "            doc = MONGO_DB_CLIENT[DB_NAME][COLLECTION_NAME].find_one({\"_id\": ObjectId(obj[\"metadata\"][\"videoID\"])})\n",
    "            if doc:\n",
    "                youtubeURL = doc[\"youtubeURL\"]\n",
    "            f.write(f'    Rank: {i+1}, Distance: {obj[\"score\"]}\\n')\n",
    "            f.write(f'        Title: {obj[\"metadata\"][\"title\"]}, URL: {youtubeURL}\\n')\n",
    "            f.write(f'        Topics: {[alltopics[topic] for topic in obj[\"metadata\"][\"topics\"]]}\\n')\n",
    "            f.write(f'        infTopics: {obj[\"metadata\"][\"inferenceTopics\"]} \\n')\n",
    "            f.write(f'        infComplexities: {obj[\"metadata\"][\"inferenceComplexities\"]}\\n')\n",
    "        ATTEMPT += 1\n",
    "        print(f\"Attempt {ATTEMPT} of {QUERIES} complete\")\n",
    "    "
   ]
  },
  {
   "cell_type": "code",
   "execution_count": null,
   "metadata": {},
   "outputs": [],
   "source": []
  }
 ],
 "metadata": {
  "kernelspec": {
   "display_name": "Python 3",
   "language": "python",
   "name": "python3"
  },
  "language_info": {
   "codemirror_mode": {
    "name": "ipython",
    "version": 3
   },
   "file_extension": ".py",
   "mimetype": "text/x-python",
   "name": "python",
   "nbconvert_exporter": "python",
   "pygments_lexer": "ipython3",
   "version": "3.10.12"
  }
 },
 "nbformat": 4,
 "nbformat_minor": 2
}

{
 "cells": [
  {
   "cell_type": "code",
   "execution_count": 1,
   "metadata": {},
   "outputs": [
    {
     "name": "stderr",
     "output_type": "stream",
     "text": [
      "/Users/klinalb/anaconda3/envs/CS98/lib/python3.10/site-packages/pinecone/data/index.py:1: TqdmWarning: IProgress not found. Please update jupyter and ipywidgets. See https://ipywidgets.readthedocs.io/en/stable/user_install.html\n",
      "  from tqdm.autonotebook import tqdm\n"
     ]
    }
   ],
   "source": [
    "import os\n",
    "import json\n",
    "from dotenv import load_dotenv\n",
    "import torch\n",
    "import time\n",
    "import math, random\n",
    "from pymongo import MongoClient\n",
    "from bson.objectid import ObjectId\n",
    "from pymongo.server_api import ServerApi\n",
    "from pinecone import Pinecone\n",
    "\n",
    "## Load Config\n",
    "with open('config/videos.json') as config_file:\n",
    "    videos = json.load(config_file)\n",
    "with open('config/name_to_url.json') as config_file:\n",
    "    name_to_url = json.load(config_file)\n",
    "with open('config/alltopics.json') as config_file:\n",
    "    alltopics = json.load(config_file)\n",
    "with open ('config/inferenceTopics.json') as config_file:\n",
    "    inferenceTopicsJson = json.load(config_file)\n",
    "with open('config/indexedtopics.json') as config_file:\n",
    "    file = json.load(config_file)\n",
    "    indexedtopics = {}\n",
    "    for i in range(len(file)):\n",
    "        obj = file[i]\n",
    "        indexedtopics[obj[\"topic\"]] = obj[\"subtopics\"]\n",
    "\n",
    "load_dotenv(dotenv_path=\".env\")\n",
    "\n",
    "CUR_DIR = os.getcwd()\n",
    "pc = Pinecone(api_key=os.environ[\"PINECONE_KEY\"])\n",
    "index = pc.Index(\"pretechnigala\")\n",
    "DB_NAME = \"preTechnigalaClean_db\"\n",
    "DB_NAME1 = \"preTechnigalaClean1_db\"\n",
    "\n",
    "COLLECTION_NAME = \"video_metadata\"\n",
    "MONGO_DB_CLIENT = MongoClient(os.getenv(\"MONGODB_URI\"), server_api=ServerApi('1'))\n",
    "OUTPUT_DIR = f\"{CUR_DIR}/data/topics\"\n",
    "QUERY_MODE = \"avg\"  \n",
    "VECTOR_MODE = \"avg\""
   ]
  },
  {
   "cell_type": "code",
   "execution_count": 15,
   "metadata": {},
   "outputs": [],
   "source": [
    "DEFAULT_DURATION = 30\n",
    "### CREATE SOME FAKE WATCH HISTORY OF LIMIT LENGTH\n",
    "def generateHistoryJson(topic_id, limit):\n",
    "    subtopics = indexedtopics[str(topic_id)] + [topic_id]\n",
    "    docs = MONGO_DB_CLIENT[DB_NAME][COLLECTION_NAME].find(\n",
    "        {\"topicId\": {\"$in\": subtopics}})\n",
    "    doc_list = []\n",
    "    for doc in docs:\n",
    "        doc_list.append(doc)\n",
    "    # pick 10 random docs from doc_list with no repeats\n",
    "    clipIds = []\n",
    "    videoIds = []\n",
    "    durations = []\n",
    "    for i in range(limit):\n",
    "        doc = random.choice(doc_list)\n",
    "        clipIds.append(str(doc[\"clips\"][0]))\n",
    "        videoIds.append(str(doc[\"_id\"]))\n",
    "        durations.append(DEFAULT_DURATION)\n",
    "    return {\"clipIds\": clipIds, \"videoIds\": videoIds, \"durations\": durations}"
   ]
  },
  {
   "cell_type": "code",
   "execution_count": 18,
   "metadata": {},
   "outputs": [
    {
     "name": "stdout",
     "output_type": "stream",
     "text": [
      "{\"clipIds\": [\"65e79710c819b19674dd5a57\", \"65e79711c819b19674dd5a5a\", \"65e7970ac819b19674dd5a1b\", \"65e796fdc819b19674dd5997\", \"65e796dfc819b19674dd5888\", \"65e7970cc819b19674dd5a29\", \"65e7970fc819b19674dd5a47\", \"65e79710c819b19674dd5a57\", \"65e79707c819b19674dd59fe\", \"65e7966dc819b19674dd5440\"], \"videoIds\": [\"65d8fcfd95f306b28d1b8a10\", \"65d8fd0595f306b28d1b8a19\", \"65d8fcf595f306b28d1b8a07\", \"65d8fcd395f306b28d1b89d6\", \"65d8fc7b95f306b28d1b8970\", \"65d8fcf995f306b28d1b8a0b\", \"65d8fcfc95f306b28d1b8a0f\", \"65d8fcfd95f306b28d1b8a10\", \"65d8fcf195f306b28d1b8a02\", \"65d8fcfa95f306b28d1b8a0d\"], \"durations\": [30, 30, 30, 30, 30, 30, 30, 30, 30, 30]}\n"
     ]
    }
   ],
   "source": [
    "topics = [1, 7, 13, 19, 25, 31, 37, 43, 49, 55, 61, 67]\n",
    "histories = {}\n",
    "for topic in topics:\n",
    "    history = generateHistoryJson(topic, 8)\n",
    "    histories[topic] = json.dumps(history)"
   ]
  },
  {
   "cell_type": "code",
   "execution_count": 19,
   "metadata": {},
   "outputs": [
    {
     "name": "stdout",
     "output_type": "stream",
     "text": [
      "{\"clipIds\": [\"65e79710c819b19674dd5a57\", \"65e79711c819b19674dd5a5a\", \"65e7970ac819b19674dd5a1b\", \"65e796fdc819b19674dd5997\", \"65e796dfc819b19674dd5888\", \"65e7970cc819b19674dd5a29\", \"65e7970fc819b19674dd5a47\", \"65e79710c819b19674dd5a57\", \"65e79707c819b19674dd59fe\", \"65e7966dc819b19674dd5440\"], \"videoIds\": [\"65d8fcfd95f306b28d1b8a10\", \"65d8fd0595f306b28d1b8a19\", \"65d8fcf595f306b28d1b8a07\", \"65d8fcd395f306b28d1b89d6\", \"65d8fc7b95f306b28d1b8970\", \"65d8fcf995f306b28d1b8a0b\", \"65d8fcfc95f306b28d1b8a0f\", \"65d8fcfd95f306b28d1b8a10\", \"65d8fcf195f306b28d1b8a02\", \"65d8fcfa95f306b28d1b8a0d\"], \"durations\": [30, 30, 30, 30, 30, 30, 30, 30, 30, 30]}\n"
     ]
    }
   ],
   "source": [
    "print(histories[13])"
   ]
  },
  {
   "cell_type": "code",
   "execution_count": null,
   "metadata": {},
   "outputs": [],
   "source": []
  }
 ],
 "metadata": {
  "kernelspec": {
   "display_name": "CS98",
   "language": "python",
   "name": "python3"
  },
  "language_info": {
   "codemirror_mode": {
    "name": "ipython",
    "version": 3
   },
   "file_extension": ".py",
   "mimetype": "text/x-python",
   "name": "python",
   "nbconvert_exporter": "python",
   "pygments_lexer": "ipython3",
   "version": "3.10.13"
  }
 },
 "nbformat": 4,
 "nbformat_minor": 2
}

{
 "cells": [
  {
   "cell_type": "code",
   "execution_count": 6,
   "metadata": {},
   "outputs": [
    {
     "data": {
      "text/plain": [
       "True"
      ]
     },
     "execution_count": 6,
     "metadata": {},
     "output_type": "execute_result"
    }
   ],
   "source": [
    "\n",
    "import os\n",
    "import json\n",
    "from dotenv import load_dotenv\n",
    "import torch\n",
    "import time\n",
    "from pymongo import MongoClient\n",
    "from bson.objectid import ObjectId\n",
    "from pymongo.server_api import ServerApi\n",
    "\n",
    "## Load Config\n",
    "with open('config/videos.json') as config_file:\n",
    "    videos = json.load(config_file)\n",
    "with open('config/name_to_url.json') as config_file:\n",
    "    name_to_url = json.load(config_file)\n",
    "with open('config/alltopics.json') as config_file:\n",
    "    alltopics = json.load(config_file)\n",
    "\n",
    "load_dotenv(dotenv_path=\"/home/ubuntu/InferenceTest1/rec/inference/.env\")\n"
   ]
  },
  {
   "cell_type": "code",
   "execution_count": 7,
   "metadata": {},
   "outputs": [],
   "source": [
    "from pinecone import Pinecone\n",
    "\n",
    "pc = Pinecone(api_key=os.environ[\"PINECONE_KEY\"])\n",
    "index = pc.Index(\"pretechnigala\")\n",
    "DB_NAME = \"preTechnigalaClean_db\"\n",
    "COLLECTION_NAME = \"video_metadata\"\n",
    "MONGO_DB_CLIENT = MongoClient(os.getenv(\"MONGODB_URI\"), server_api=ServerApi('1'))\n"
   ]
  },
  {
   "cell_type": "code",
   "execution_count": 13,
   "metadata": {},
   "outputs": [],
   "source": [
    "folder_no = 36\n",
    "# folder_no = len(os.listdir(f'data/outputs'))\n",
    "shots = [\"mixtral8x7b\", \"full-stack\"]\n",
    "os.makedirs(f'data/outputs/{folder_no}/text', exist_ok=True)\n",
    "os.makedirs(f'data/outputs/{folder_no}/embeddings', exist_ok=True)\n",
    "os.makedirs(f'data/outputs/{folder_no}/results', exist_ok=True)\n",
    "\n",
    "transcripts_dir = \"data/transcripts/processed\"\n",
    "prompt_path = \"data/prompts/prompt.txt\"\n",
    "oneshots_dir = \"data/oneshots\"\n",
    "outputs_dir = f'data/outputs/{folder_no}'\n",
    "path_to_embeddings = f'{outputs_dir}/embeddings'\n",
    "mode = \"max\"\n",
    "vectors = []\n",
    "\n"
   ]
  },
  {
   "cell_type": "code",
   "execution_count": 11,
   "metadata": {},
   "outputs": [
    {
     "name": "stdout",
     "output_type": "stream",
     "text": [
      "Loaded dpo, metadata: {'name': 'dpo', 'url': 'https://www.youtube.com/watch?v=E5kzAbD8D0w', 'attempt_no': 15}\n",
      "Loaded full-stack, metadata: {'name': 'full-stack', 'url': 'https://www.youtube.com/watch?v=lauywdXKEXI', 'attempt_no': 15}\n",
      "Loaded hashing, metadata: {'name': 'hashing', 'url': 'https://www.youtube.com/watch?v=p6wwj0ozifw', 'attempt_no': 15}\n",
      "Loaded localized_deployment, metadata: {'name': 'localized_deployment', 'url': 'https://www.youtube.com/watch?v=J0NuOlA2xDc', 'attempt_no': 15}\n",
      "Loaded mlops_llm_eval, metadata: {'name': 'mlops_llm_eval', 'url': 'https://www.youtube.com/watch?v=00AQjBDM46Q', 'attempt_no': 15}\n",
      "Loaded mixtral8x7b, metadata: {'name': 'mixtral8x7b', 'url': 'https://www.youtube.com/watch?v=UiX8K-xBUpE', 'attempt_no': 15}\n",
      "Loaded react, metadata: {'name': 'react', 'url': 'https://www.youtube.com/watch?v=HyWYpM_S-2c', 'attempt_no': 15}\n",
      "Loaded react_svelte, metadata: {'name': 'react_svelte', 'url': 'https://www.youtube.com/watch?v=MnpuK0MK4yo', 'attempt_no': 15}\n",
      "Loaded rust, metadata: {'name': 'rust', 'url': 'https://www.youtube.com/watch?v=5C_HPTJg5ek', 'attempt_no': 15}\n",
      "Loaded sql_backend, metadata: {'name': 'sql_backend', 'url': 'https://www.youtube.com/watch?v=wybjsKtA9hI', 'attempt_no': 15}\n",
      "Loaded threads_connections, metadata: {'name': 'threads_connections', 'url': 'https://www.youtube.com/watch?v=CZw57SIwgiE', 'attempt_no': 15}\n",
      "Loaded typescript_fireship, metadata: {'name': 'typescript_fireship', 'url': 'https://www.youtube.com/watch?v=5ChkQKUzDCs', 'attempt_no': 15}\n",
      "Loaded zig, metadata: {'name': 'zig', 'url': 'https://www.youtube.com/watch?v=kxT8-C1vmd4', 'attempt_no': 15}\n"
     ]
    }
   ],
   "source": [
    "# Prepare embeddings for upload\n",
    "\n",
    "for embedding_file in os.listdir(path_to_embeddings):\n",
    "    if not embedding_file.endswith('.pt'):\n",
    "        continue\n",
    "    if mode not in embedding_file:\n",
    "        continue\n",
    "\n",
    "    name = embedding_file[4:-3]\n",
    "    metadata = {\"name\": name, \"url\": name_to_url[name], \"attempt_no\": folder_no}\n",
    "    tensor = torch.load(f'{path_to_embeddings}/{embedding_file}').to('cpu').numpy().tolist()\n",
    "    vectors.append({\"values\": tensor, \"id\": name, \"metadata\": metadata})\n",
    "    print(f'Loaded {name}, metadata: {metadata}')\n",
    "    del tensor\n",
    "\n",
    "    torch.cuda.empty_cache()"
   ]
  },
  {
   "cell_type": "code",
   "execution_count": 12,
   "metadata": {},
   "outputs": [
    {
     "data": {
      "text/plain": [
       "{'upserted_count': 13}"
      ]
     },
     "execution_count": 12,
     "metadata": {},
     "output_type": "execute_result"
    }
   ],
   "source": [
    "# Upload\n",
    "\n",
    "index.upsert(vectors=vectors)"
   ]
  },
  {
   "cell_type": "markdown",
   "metadata": {},
   "source": [
    "<!-- inferenceComplexities: [ \"0.61\", \"0.69\", \"0.53\" ]\n",
    "inferenceTopics: [ \"Algorithms and Data Structures\", \"Web Development and Internet Technologies\", \"Computer Graphics and Visualization\" ]\n",
    "title: \"Data structures: Introduction to graphs\"\n",
    "topics: [ \"3\", \"1\" ]\n",
    "type: \"avg_pool\"\n",
    "videoID: \"65d8fc1895f306b28d1b886d\" -->"
   ]
  },
  {
   "cell_type": "code",
   "execution_count": 19,
   "metadata": {},
   "outputs": [],
   "source": [
    "query_mode = \"max\"\n",
    "vector_mode = \"avg\"\n",
    "\n",
    "with open(f'{outputs_dir}/results/{vector_mode}-v_{query_mode}-q.txt', 'w') as f:\n",
    "    for embedding_file in os.listdir(path_to_embeddings):\n",
    "        if not embedding_file.endswith('.pt'):\n",
    "            continue\n",
    "        if query_mode not in embedding_file:\n",
    "            continue\n",
    "        name = embedding_file[4:-3]\n",
    "        query = torch.load(f'{path_to_embeddings}/{embedding_file}').to('cpu').numpy().tolist()\n",
    "        response = index.query(vector=query, top_k=5, include_values=True, include_metadata=True, filter={\"mode\": f\"{vector_mode}_pool\"})\n",
    "        \n",
    "        f.write(f'Querying {name}:\\n')\n",
    "        for i, obj in enumerate(response[\"matches\"]):\n",
    "            youtubeURL = \"None\"\n",
    "            doc = MONGO_DB_CLIENT[DB_NAME][COLLECTION_NAME].find_one({\"_id\": ObjectId(obj[\"metadata\"][\"videoID\"])})\n",
    "            if doc:\n",
    "                youtubeURL = doc[\"youtubeURL\"]\n",
    "            f.write(f'    Rank: {i+1}, Distance: {obj[\"score\"]}\\n')\n",
    "            f.write(f'        Title: {obj[\"metadata\"][\"title\"]}, URL: {youtubeURL}\\n')\n",
    "            f.write(f'        Topics: {[alltopics[topic] for topic in obj[\"metadata\"][\"topics\"]]}\\n')\n",
    "            f.write(f'        infTopics: {obj[\"metadata\"][\"inferenceTopics\"]} \\n')\n",
    "            f.write(f'        infComplexities: {obj[\"metadata\"][\"inferenceComplexities\"]}\\n')"
   ]
  },
  {
   "cell_type": "code",
   "execution_count": null,
   "metadata": {},
   "outputs": [],
   "source": []
  }
 ],
 "metadata": {
  "kernelspec": {
   "display_name": "ml-engine",
   "language": "python",
   "name": "python3"
  },
  "language_info": {
   "codemirror_mode": {
    "name": "ipython",
    "version": 3
   },
   "file_extension": ".py",
   "mimetype": "text/x-python",
   "name": "python",
   "nbconvert_exporter": "python",
   "pygments_lexer": "ipython3",
   "version": "3.10.12"
  }
 },
 "nbformat": 4,
 "nbformat_minor": 2
}

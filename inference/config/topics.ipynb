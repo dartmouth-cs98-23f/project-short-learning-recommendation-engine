{
 "cells": [
  {
   "cell_type": "code",
   "execution_count": 2,
   "metadata": {},
   "outputs": [],
   "source": [
    "import json"
   ]
  },
  {
   "cell_type": "code",
   "execution_count": 3,
   "metadata": {},
   "outputs": [],
   "source": [
    "alltopics = json.load(open('alltopics.json'))\n",
    "semantic = json.load(open('topicssemantic.json'))"
   ]
  },
  {
   "cell_type": "code",
   "execution_count": 13,
   "metadata": {},
   "outputs": [],
   "source": [
    "r_alltopics = {}\n",
    "for index, topic in alltopics.items():\n",
    "    r_alltopics[topic] = index\n",
    "\n",
    "indexed_topics = []\n",
    "for obj in semantic:\n",
    "    topic = obj[\"topic\"]\n",
    "    subtopics = obj[\"subtopics\"]\n",
    "    topic_id = r_alltopics[topic]\n",
    "    subtopics_ids = []\n",
    "    for subtopic in subtopics:\n",
    "        subtopics_ids.append(r_alltopics[subtopic])\n",
    "    indexed_topics.append({\"topic\": topic_id, \"subtopics\": subtopics_ids})\n",
    "\n",
    "with open('indexedtopics.json', 'w') as f:\n",
    "    json.dump(indexed_topics, f)\n",
    "    \n",
    "\n",
    "\n"
   ]
  },
  {
   "cell_type": "code",
   "execution_count": null,
   "metadata": {},
   "outputs": [],
   "source": []
  }
 ],
 "metadata": {
  "kernelspec": {
   "display_name": "Python 3",
   "language": "python",
   "name": "python3"
  },
  "language_info": {
   "codemirror_mode": {
    "name": "ipython",
    "version": 3
   },
   "file_extension": ".py",
   "mimetype": "text/x-python",
   "name": "python",
   "nbconvert_exporter": "python",
   "pygments_lexer": "ipython3",
   "version": "3.10.12"
  }
 },
 "nbformat": 4,
 "nbformat_minor": 2
}

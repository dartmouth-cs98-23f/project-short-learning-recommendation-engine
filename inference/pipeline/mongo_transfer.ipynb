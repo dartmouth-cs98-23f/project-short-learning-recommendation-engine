{
 "cells": [
  {
   "cell_type": "code",
   "execution_count": 1,
   "metadata": {},
   "outputs": [
    {
     "name": "stderr",
     "output_type": "stream",
     "text": [
      "/usr/lib/python3/dist-packages/scipy/__init__.py:146: UserWarning: A NumPy version >=1.17.3 and <1.25.0 is required for this version of SciPy (detected version 1.25.2\n",
      "  warnings.warn(f\"A NumPy version >={np_minversion} and <{np_maxversion}\"\n"
     ]
    }
   ],
   "source": [
    "from pymongo.mongo_client import MongoClient\n",
    "from pymongo.server_api import ServerApi\n",
    "from inference import vectorize_pipeline\n",
    "\n",
    "import dotenv\n",
    "import os\n",
    "\n",
    "dotenv.load_dotenv(dotenv_path=\"../.env\")\n",
    "uri = os.getenv(\"MONGODB_URI\")\n"
   ]
  },
  {
   "cell_type": "code",
   "execution_count": 2,
   "metadata": {},
   "outputs": [
    {
     "name": "stdout",
     "output_type": "stream",
     "text": [
      "Pinged your dceployment. You successfully connected to MongoDB!\n"
     ]
    }
   ],
   "source": [
    "client = MongoClient(uri, server_api=ServerApi('1'))\n",
    "                          \n",
    "# Send a ping to confirm a successful connection\n",
    "try:\n",
    "    client.admin.command('ping')\n",
    "    print(\"Pinged your dceployment. You successfully connected to MongoDB!\")\n",
    "except Exception as e:\n",
    "    print(e)\n",
    "\n",
    "database_name = \"kevininfpipe\"\n",
    "collection_name = \"video_metadata\""
   ]
  },
  {
   "cell_type": "code",
   "execution_count": 3,
   "metadata": {},
   "outputs": [
    {
     "name": "stdout",
     "output_type": "stream",
     "text": [
      "{'_id': ObjectId('65d8fef4e8d94e84768ec9fb'), 'title': 'Exploring the Depths of the Ocean', 'description': \"A captivating journey into the unknown territories beneath the waves, showcasing the mysterious life forms and the uncharted territories of our planet's oceans.\", 'youtubeURL': 'https://www.youtube.com/watch?v=UF9Iqmg94tk', 'uploadDate': '2024-02-23T12:00:00Z', 'uploader': '507f1f77bcf86cd799439011', 'duration': 3600, 'thumbnailURL': 'https://example-s3-link.com/thumbnail.jpg', 'topicId': '507f191e810c19729de860ea', 'clips': ['507f1f77bcf86cd799439012', '507f1f77bcf86cd799439013'], 'views': ['507f1f77bcf86cd799439014', '507f1f77bcf86cd799439015'], 'likes': ['507f1f77bcf86cd799439016', '507f1f77bcf86cd799439017'], 'dislikes': ['507f1f77bcf86cd799439018', '507f1f77bcf86cd799439019'], 'isVectorized': False, 'isClipped': False}\n"
     ]
    }
   ],
   "source": [
    "db = client[database_name]\n",
    "collection = db[collection_name]\n",
    "\n",
    "# if doc does not have a field called \"isVectorized\", add it and set it to False\n",
    "# if doc does not have a field called \"isClipped\", add it and set it to False\n",
    "# for doc in collection.find():\n",
    "#     if \"isVectorized\" not in doc:\n",
    "#         collection.update_one({\"_id\": doc[\"_id\"]}, {\"$set\": {\"isVectorized\": False}})\n",
    "#     if \"isClipped\" not in doc:\n",
    "#         collection.update_one({\"_id\": doc[\"_id\"]}, {\"$set\": {\"isClipped\": False}})\n",
    "    \n",
    "    \n",
    "    \n",
    "doc = collection.find_one({\"isVectorized\": False})\n",
    "print(doc)\n"
   ]
  },
  {
   "cell_type": "code",
   "execution_count": 5,
   "metadata": {},
   "outputs": [
    {
     "name": "stdout",
     "output_type": "stream",
     "text": [
      "Folder Number: 65d8fef4e8d94e84768ec9fb\n",
      "Downloading transcript for UF9Iqmg94tk to ../data/technigala/65d8fef4e8d94e84768ec9fb/raw_transcript.txt\n",
      "Downloaded transcript for UF9Iqmg94tk to ../data/technigala/65d8fef4e8d94e84768ec9fb/raw_transcript.txt\n"
     ]
    },
    {
     "name": "stderr",
     "output_type": "stream",
     "text": [
      "[nltk_data] Downloading package stopwords to /home/ubuntu/nltk_data...\n",
      "[nltk_data]   Package stopwords is already up-to-date!\n",
      "You are attempting to use Flash Attention 2.0 with a model not initialized on GPU. Make sure to move the model to GPU after initializing it on CPU with `model.to('cuda')`.\n"
     ]
    },
    {
     "data": {
      "application/vnd.jupyter.widget-view+json": {
       "model_id": "6bfda03e26ac4a029cf6f7fbb239d34b",
       "version_major": 2,
       "version_minor": 0
      },
      "text/plain": [
       "Loading checkpoint shards:   0%|          | 0/2 [00:00<?, ?it/s]"
      ]
     },
     "metadata": {},
     "output_type": "display_data"
    },
    {
     "name": "stdout",
     "output_type": "stream",
     "text": [
      "    Tokens: 9325\n",
      "Decoding finished: Exploring the Depths of the Ocean in 66.786 seconds\n",
      "cuda memory allocated: 14.00 GB cuda memory cached: 14.38 GB\n",
      "cuda memory allocated: 14.00 GB cuda memory cached: 14.38 GB\n"
     ]
    },
    {
     "name": "stderr",
     "output_type": "stream",
     "text": [
      "/home/ubuntu/.local/lib/python3.10/site-packages/torch/cuda/memory.py:440: FutureWarning: torch.cuda.memory_cached has been renamed to torch.cuda.memory_reserved\n",
      "  warnings.warn(\n"
     ]
    },
    {
     "name": "stdout",
     "output_type": "stream",
     "text": [
      "Hidden states finished: Exploring the Depths of the Ocean in 0.251 seconds\n",
      "torch.Size([4096])\n",
      "Target: Exploring the Depths of the Ocean finished. Wrote to file.\n",
      "cuda memory allocated: 14.00 GB cuda memory cached: 14.69 GB\n",
      "Loaded Exploring the Depths of the Ocean, metadata: {'name': 'Exploring the Depths of the Ocean', 'url': 'https://www.youtube.com/watch?v=UF9Iqmg94tk', 'title': 'Exploring the Depths of the Ocean', 'topics': '507f191e810c19729de860ea'}\n"
     ]
    }
   ],
   "source": [
    "vectorize_pipeline(doc)"
   ]
  },
  {
   "cell_type": "code",
   "execution_count": null,
   "metadata": {},
   "outputs": [],
   "source": []
  }
 ],
 "metadata": {
  "kernelspec": {
   "display_name": "Python 3",
   "language": "python",
   "name": "python3"
  },
  "language_info": {
   "codemirror_mode": {
    "name": "ipython",
    "version": 3
   },
   "file_extension": ".py",
   "mimetype": "text/x-python",
   "name": "python",
   "nbconvert_exporter": "python",
   "pygments_lexer": "ipython3",
   "version": "3.10.12"
  }
 },
 "nbformat": 4,
 "nbformat_minor": 2
}

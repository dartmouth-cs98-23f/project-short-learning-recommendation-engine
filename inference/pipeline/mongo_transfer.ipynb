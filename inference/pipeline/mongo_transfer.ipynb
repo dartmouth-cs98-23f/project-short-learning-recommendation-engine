{
 "cells": [
  {
   "cell_type": "code",
   "execution_count": 4,
   "metadata": {},
   "outputs": [],
   "source": [
    "from pymongo.mongo_client import MongoClient\n",
    "from pymongo.server_api import ServerApi\n",
    "\n",
    "import dotenv\n",
    "import os\n",
    "\n",
    "dotenv.load_dotenv(dotenv_path=\"../.env\")\n",
    "uri = os.getenv(\"MONGODB_URI\")\n"
   ]
  },
  {
   "cell_type": "code",
   "execution_count": 5,
   "metadata": {},
   "outputs": [
    {
     "name": "stdout",
     "output_type": "stream",
     "text": [
      "Pinged your dceployment. You successfully connected to MongoDB!\n"
     ]
    }
   ],
   "source": [
    "client = MongoClient(uri, server_api=ServerApi('1'))\n",
    "                          \n",
    "# Send a ping to confirm a successful connection\n",
    "try:\n",
    "    client.admin.command('ping')\n",
    "    print(\"Pinged your dceployment. You successfully connected to MongoDB!\")\n",
    "except Exception as e:\n",
    "    print(e)\n",
    "\n",
    "database_name = \"kevininfpipe\"\n",
    "collection_name = \"video_metadata\""
   ]
  },
  {
   "cell_type": "code",
   "execution_count": 6,
   "metadata": {},
   "outputs": [
    {
     "name": "stdout",
     "output_type": "stream",
     "text": [
      "{'_id': ObjectId('65d8fef4e8d94e84768ec9fb'), 'title': 'bytebytego', 'description': \"A captivating journey into the unknown territories beneath the waves, showcasing the mysterious life forms and the uncharted territories of our planet's oceans.\", 'youtubeURL': 'https://www.youtube.com/watch?v=UF9Iqmg94tk', 'uploadDate': '2024-02-23T12:00:00Z', 'uploader': '507f1f77bcf86cd799439011', 'duration': 3600, 'thumbnailURL': 'https://example-s3-link.com/thumbnail.jpg', 'topicId': '507f191e810c19729de860ea', 'clips': ['507f1f77bcf86cd799439012', '507f1f77bcf86cd799439013'], 'views': ['507f1f77bcf86cd799439014', '507f1f77bcf86cd799439015'], 'likes': ['507f1f77bcf86cd799439016', '507f1f77bcf86cd799439017'], 'dislikes': ['507f1f77bcf86cd799439018', '507f1f77bcf86cd799439019'], 'isVectorized': False, 'isClipped': False}\n"
     ]
    }
   ],
   "source": [
    "db = client[database_name]\n",
    "collection = db[collection_name]\n",
    "\n",
    "# if doc does not have a field called \"isVectorized\", add it and set it to False\n",
    "# if doc does not have a field called \"isClipped\", add it and set it to False\n",
    "# for doc in collection.find():\n",
    "#     if \"isVectorized\" not in doc:\n",
    "#         collection.update_one({\"_id\": doc[\"_id\"]}, {\"$set\": {\"isVectorized\": False}})\n",
    "#     if \"isClipped\" not in doc:\n",
    "#         collection.update_one({\"_id\": doc[\"_id\"]}, {\"$set\": {\"isClipped\": False}})\n",
    "    \n",
    "doc = collection.find_one({\"isVectorized\": False})  \n",
    "print(doc)\n"
   ]
  },
  {
   "cell_type": "code",
   "execution_count": 7,
   "metadata": {},
   "outputs": [
    {
     "name": "stderr",
     "output_type": "stream",
     "text": [
      "/home/ubuntu/.local/lib/python3.10/site-packages/tqdm/auto.py:21: TqdmWarning: IProgress not found. Please update jupyter and ipywidgets. See https://ipywidgets.readthedocs.io/en/stable/user_install.html\n",
      "  from .autonotebook import tqdm as notebook_tqdm\n",
      "You are attempting to use Flash Attention 2.0 with a model not initialized on GPU. Make sure to move the model to GPU after initializing it on CPU with `model.to('cuda')`.\n",
      "Loading checkpoint shards: 100%|██████████| 2/2 [00:05<00:00,  2.60s/it]\n"
     ]
    }
   ],
   "source": [
    "import torch\n",
    "from transformers import AutoTokenizer, AutoModelForCausalLM\n",
    "\n",
    "torch.cuda.empty_cache()\n",
    "device = \"cuda:0\" if torch.cuda.is_available() else \"cpu\"\n",
    "tokenizer = AutoTokenizer.from_pretrained(\"mistralai/Mistral-7B-Instruct-v0.1\")\n",
    "model = AutoModelForCausalLM.from_pretrained(\"mistralai/Mistral-7B-Instruct-v0.1\", torch_dtype=torch.float16, attn_implementation=\"flash_attention_2\").to(device)\n"
   ]
  },
  {
   "cell_type": "code",
   "execution_count": 8,
   "metadata": {},
   "outputs": [
    {
     "name": "stdout",
     "output_type": "stream",
     "text": [
      "Folder Number: 65d8fef4e8d94e84768ec9fb\n",
      "Downloading transcript for UF9Iqmg94tk to ../data/technigala/65d8fef4e8d94e84768ec9fb/raw_transcript.txt\n",
      "Downloaded transcript for UF9Iqmg94tk to ../data/technigala/65d8fef4e8d94e84768ec9fb/raw_transcript.txt\n",
      "    Tokens: 7960\n"
     ]
    },
    {
     "name": "stderr",
     "output_type": "stream",
     "text": [
      "[nltk_data] Downloading package stopwords to /home/ubuntu/nltk_data...\n",
      "[nltk_data]   Package stopwords is already up-to-date!\n"
     ]
    },
    {
     "name": "stdout",
     "output_type": "stream",
     "text": [
      "Decoding finished: bytebytego in 68.57 seconds\n",
      "cuda memory allocated: 14.00 GB cuda memory cached: 14.36 GB\n",
      "cuda memory allocated: 14.00 GB cuda memory cached: 14.36 GB\n"
     ]
    },
    {
     "name": "stderr",
     "output_type": "stream",
     "text": [
      "/home/ubuntu/.local/lib/python3.10/site-packages/torch/cuda/memory.py:440: FutureWarning: torch.cuda.memory_cached has been renamed to torch.cuda.memory_reserved\n",
      "  warnings.warn(\n"
     ]
    },
    {
     "name": "stdout",
     "output_type": "stream",
     "text": [
      "Hidden states finished: bytebytego in 0.274 seconds\n",
      "torch.Size([4096])\n",
      "Target: bytebytego finished. Wrote to file.\n",
      "cuda memory allocated: 14.00 GB cuda memory cached: 14.73 GB\n",
      "Loaded vector, metadata: {'name': 'vector', 'url': 'https://www.youtube.com/watch?v=UF9Iqmg94tk', 'title': 'bytebytego', 'topics': '507f191e810c19729de860ea'}\n"
     ]
    }
   ],
   "source": [
    "from inference import vectorize_pipeline\n",
    "\n",
    "vectorize_pipeline(doc, device, model, tokenizer)"
   ]
  },
  {
   "cell_type": "code",
   "execution_count": 9,
   "metadata": {},
   "outputs": [],
   "source": [
    "from validator import VideoContent\n",
    "import json\n",
    "\n",
    "f_transcript = open(f\"../data/technigala/{doc['_id']}/bytebytego.json\", \"r\")\n",
    "json_data = f_transcript.read()\n",
    "\n",
    "try:\n",
    "    transcript = VideoContent.parse_raw(json_data)\n",
    "except Exception as e:\n",
    "    print(e)\n",
    "\n",
    "f_transcript.close()\n"
   ]
  },
  {
   "cell_type": "code",
   "execution_count": null,
   "metadata": {},
   "outputs": [],
   "source": []
  }
 ],
 "metadata": {
  "kernelspec": {
   "display_name": "Python 3",
   "language": "python",
   "name": "python3"
  },
  "language_info": {
   "codemirror_mode": {
    "name": "ipython",
    "version": 3
   },
   "file_extension": ".py",
   "mimetype": "text/x-python",
   "name": "python",
   "nbconvert_exporter": "python",
   "pygments_lexer": "ipython3",
   "version": "3.10.12"
  }
 },
 "nbformat": 4,
 "nbformat_minor": 2
}

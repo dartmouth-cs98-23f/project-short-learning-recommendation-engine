{
 "cells": [
  {
   "cell_type": "code",
   "execution_count": null,
   "metadata": {},
   "outputs": [],
   "source": [
    "## This file produces data for the model to use\n",
    "\n",
    "\n",
    "import oss\n",
    "import json\n",
    "from dotenv import load_dotenv\n",
    "\n",
    "## Load Config\n",
    "with open('config/videos.json') as config_file:\n",
    "    videos = json.load(config_file)\n",
    "with open('config/name_to_url.json') as config_file:\n",
    "    name_to_url = json.load(config_file)\n",
    "\n",
    "load_dotenv(dotenv_path=\".env\")\n",
    "\n",
    "from openai import OpenAI\n",
    "\n",
    "client = OpenAI(\n",
    "    # This is the default and can be omitted\n",
    "    api_key=os.getenv('OPENAI_KEY'),\n",
    ")\n"
   ]
  },
  {
   "cell_type": "code",
   "execution_count": null,
   "metadata": {},
   "outputs": [],
   "source": [
    "## Grab Transcripts and Clean\n",
    "from utils.video import download_video\n",
    "from utils.transcript import download_transcript\n",
    "import nltk\n",
    "import string\n",
    "from nltk.corpus import stopwords\n",
    "\n",
    "# download_video('https://www.youtube.com/watch?v=Xdhe-meS30A', 'data/videos/video.mp4')\n",
    "for link, video_id, name in videos:\n",
    "    download_transcript(video_id, f'data/transcripts/raw/{name}.txt')\n",
    "    with open(f'data/transcripts/raw/{name}.txt', 'r') as file:\n",
    "        with open(f'data/transcripts/clean/{name}.txt', 'w') as file_clean:\n",
    "            for i,line in enumerate(file):\n",
    "\n",
    "                line = line.split(',')[2]\n",
    "                ## Remove newline\n",
    "                line = line.replace('\\n', ' ')\n",
    "                if i != 0:\n",
    "                    file_clean.write(line)\n",
    "\n",
    "nltk.download('stopwords')\n",
    "for link, video_id, name in videos:\n",
    "    with open(f'data/transcripts/clean/{name}.txt', 'r') as file:\n",
    "        with open(f'data/transcripts/processed/{name}.txt', 'w') as file_processed:\n",
    "            text = file.read()\n",
    "            text = text.lower()\n",
    "            text = text.translate(str.maketrans('', '', string.punctuation))\n",
    "            stop_words = set(stopwords.words('english'))\n",
    "            filtered_text = [word for word in text.split() if word not in stop_words]\n",
    "\n",
    "            filtered_text = ' '.join(filtered_text)\n",
    "\n",
    "            file_processed.write(text)"
   ]
  },
  {
   "cell_type": "code",
   "execution_count": null,
   "metadata": {},
   "outputs": [],
   "source": [
    "## Use data/prompt.txt as prompt. Use OpenAI gpt4 to generate a response. Write that response into oneshot.\n",
    "\n",
    "name = \"hashing\"\n",
    "prompt = \"\"\n",
    "\n",
    "with open(f'data/prompts/prompt.txt', 'r') as file:\n",
    "    prompt = file.read()\n",
    "with open(f'data/transcripts/processed/{name}.txt', 'r') as file:\n",
    "    prompt = prompt + file.read()\n",
    "\n",
    "chat_completion = client.chat.completions.create(\n",
    "    messages=[\n",
    "        {\n",
    "            \"role\": \"user\",\n",
    "            \"content\": prompt\n",
    "        }\n",
    "    ],\n",
    "    model=\"gpt-4\"\n",
    ")"
   ]
  },
  {
   "cell_type": "code",
   "execution_count": null,
   "metadata": {},
   "outputs": [],
   "source": [
    "print(chat_completion.choices[0].message.content)"
   ]
  }
 ],
 "metadata": {
  "kernelspec": {
   "display_name": "Python 3",
   "language": "python",
   "name": "python3"
  },
  "language_info": {
   "codemirror_mode": {
    "name": "ipython",
    "version": 3
   },
   "file_extension": ".py",
   "mimetype": "text/x-python",
   "name": "python",
   "nbconvert_exporter": "python",
   "pygments_lexer": "ipython3",
   "version": "3.10.12"
  }
 },
 "nbformat": 4,
 "nbformat_minor": 2
}

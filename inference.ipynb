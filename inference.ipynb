{
 "cells": [
  {
   "cell_type": "code",
   "execution_count": 1,
   "metadata": {},
   "outputs": [],
   "source": [
    "import torch\n",
    "import os\n",
    "import time\n",
    "import json\n",
    "## Load Config\n",
    "with open('config/videos.json') as config_file:\n",
    "    videos = json.load(config_file)\n",
    "with open('config/name_to_url.json') as config_file:\n",
    "    name_to_url = json.load(config_file)\n"
   ]
  },
  {
   "cell_type": "code",
   "execution_count": 2,
   "metadata": {},
   "outputs": [
    {
     "name": "stderr",
     "output_type": "stream",
     "text": [
      "You are attempting to use Flash Attention 2.0 with a model not initialized on GPU. Make sure to move the model to GPU after initializing it on CPU with `model.to('cuda')`.\n"
     ]
    },
    {
     "data": {
      "application/vnd.jupyter.widget-view+json": {
       "model_id": "22e417441bf44cee9cb59f09ba6c923e",
       "version_major": 2,
       "version_minor": 0
      },
      "text/plain": [
       "Loading checkpoint shards:   0%|          | 0/2 [00:00<?, ?it/s]"
      ]
     },
     "metadata": {},
     "output_type": "display_data"
    }
   ],
   "source": [
    "# Load model directly\n",
    "from transformers import AutoTokenizer, AutoModelForCausalLM\n",
    "\n",
    "torch.cuda.empty_cache()\n",
    "device = \"cuda:0\" if torch.cuda.is_available() else \"cpu\"\n",
    "tokenizer = AutoTokenizer.from_pretrained(\"mistralai/Mistral-7B-Instruct-v0.1\")\n",
    "model = AutoModelForCausalLM.from_pretrained(\"mistralai/Mistral-7B-Instruct-v0.1\", torch_dtype=torch.float16, attn_implementation=\"flash_attention_2\").to(device)\n",
    "\n",
    "# tokenizer = AutoTokenizer.from_pretrained(\"TabbyML/StarCoder-7B\")\n",
    "# model = AutoModelForCausalLM.from_pretrained(\"TabbyML/StarCoder-7B\")"
   ]
  },
  {
   "cell_type": "code",
   "execution_count": 3,
   "metadata": {},
   "outputs": [],
   "source": [
    "# Variable Setup\n",
    "shots = [\"mixtral8x7b\", \"full-stack\"]\n",
    "torch.cuda.empty_cache()\n",
    "\n",
    "# folder_no = len(os.listdir(f'data/outputs'))\n",
    "folder_no = 5\n",
    "os.makedirs(f'data/outputs/{folder_no}/text', exist_ok=True)\n",
    "os.makedirs(f'data/outputs/{folder_no}/embeddings', exist_ok=True)\n",
    "os.makedirs(f'data/outputs/{folder_no}/results', exist_ok=True)\n",
    "\n",
    "# Write some metadata\n",
    "with open(f'data/outputs/{folder_no}/metadata.txt', 'w') as f:\n",
    "    f.write(f\"Model: mistralai/Mistral-7B-Instruct-v0.1\\n\")\n",
    "    f.write(f\"Time: {time.time()}\\n\")\n",
    "    f.write(f\"Videos: {videos}\\n\")\n",
    "    f.write(f\"Shots: {shots}\\n\")\n",
    "\n",
    "transcripts_dir = \"data/transcripts/processed\"\n",
    "prompt_path = \"data/prompts/prompt.txt\"\n",
    "oneshots_dir = \"data/oneshots\"\n",
    "outputs_dir = f'data/outputs/{folder_no}'"
   ]
  },
  {
   "cell_type": "code",
   "execution_count": 4,
   "metadata": {},
   "outputs": [],
   "source": [
    "def build_message(shots: list, target: str, start: int, end: int) -> list:\n",
    "    \"\"\" Build a message for the model to generate from.\n",
    "    Args:\n",
    "        shots (list): List of shots to include in the message\n",
    "        target (str): The target video to generate the message for\n",
    "        start (int): The start of the transcript to include\n",
    "        end (int): The end of the transcript to include\n",
    "    Returns:\n",
    "        list: A list of messages to send to the model\n",
    "    \"\"\"\n",
    "    \n",
    "    messages = []\n",
    "\n",
    "    f_prompt = open(prompt_path, 'r', encoding='utf-8')\n",
    "    f_target_transcript = open(f'{transcripts_dir}/{target}.txt', 'r', encoding='utf-8')\n",
    "    \n",
    "    prompt = f_prompt.read()\n",
    "    for shot in shots:\n",
    "        f_oneshot_transcript = open(f'{transcripts_dir}/{shot}.txt', 'r', encoding='utf-8')\n",
    "        f_oneshot = open(f'{oneshots_dir}/{shot}.txt', 'r', encoding='utf-8')\n",
    "        \n",
    "        messages.append({\"role\": \"user\", \"content\": f'{f_oneshot_transcript.read()[start:end]}{prompt}'})\n",
    "        messages.append({\"role\": \"assistant\", \"content\": f_oneshot.read()})\n",
    "\n",
    "        f_oneshot.close()\n",
    "        f_oneshot_transcript.close()\n",
    "\n",
    "    ## Append final message\n",
    "    messages.append({\"role\": \"user\", \"content\": f'{f_target_transcript.read()[start:end]}{prompt}'})\n",
    "\n",
    "    f_prompt.close()\n",
    "    f_target_transcript.close()\n",
    "    return messages\n"
   ]
  },
  {
   "cell_type": "code",
   "execution_count": 5,
   "metadata": {},
   "outputs": [
    {
     "name": "stdout",
     "output_type": "stream",
     "text": [
      "Decoding finished: hashing in 55.473 seconds\n",
      "cuda memory allocated: 14.00 GB cuda memory cached: 14.36 GB\n"
     ]
    },
    {
     "name": "stderr",
     "output_type": "stream",
     "text": [
      "/home/ubuntu/.local/lib/python3.10/site-packages/torch/cuda/memory.py:440: FutureWarning: torch.cuda.memory_cached has been renamed to torch.cuda.memory_reserved\n",
      "  warnings.warn(\n"
     ]
    },
    {
     "name": "stdout",
     "output_type": "stream",
     "text": [
      "Decoding finished: localized_deployment in 63.647 seconds\n",
      "cuda memory allocated: 14.00 GB cuda memory cached: 14.36 GB\n",
      "Decoding finished: dpo in 59.082 seconds\n",
      "cuda memory allocated: 14.00 GB cuda memory cached: 14.36 GB\n",
      "Decoding finished: mixtral8x7b in 49.527 seconds\n",
      "cuda memory allocated: 14.00 GB cuda memory cached: 14.36 GB\n",
      "Decoding finished: mlops_llm_eval in 57.666 seconds\n",
      "cuda memory allocated: 14.00 GB cuda memory cached: 14.36 GB\n",
      "Decoding finished: react_svelte in 60.413 seconds\n",
      "cuda memory allocated: 14.00 GB cuda memory cached: 14.36 GB\n",
      "Decoding finished: react in 64.857 seconds\n",
      "cuda memory allocated: 14.00 GB cuda memory cached: 14.36 GB\n",
      "Decoding finished: rust in 60.755 seconds\n",
      "cuda memory allocated: 14.00 GB cuda memory cached: 14.36 GB\n",
      "Decoding finished: sql_backend in 53.97 seconds\n",
      "cuda memory allocated: 14.00 GB cuda memory cached: 14.36 GB\n",
      "Decoding finished: threads_connections in 60.51 seconds\n",
      "cuda memory allocated: 14.00 GB cuda memory cached: 14.36 GB\n",
      "Decoding finished: typescript_fireship in 64.046 seconds\n",
      "cuda memory allocated: 14.00 GB cuda memory cached: 14.36 GB\n",
      "Decoding finished: zig in 65.412 seconds\n",
      "cuda memory allocated: 14.00 GB cuda memory cached: 14.36 GB\n",
      "Decoding finished: full-stack in 55.241 seconds\n",
      "cuda memory allocated: 14.00 GB cuda memory cached: 14.36 GB\n"
     ]
    }
   ],
   "source": [
    "## All Inference\n",
    "metadata = open(f'{outputs_dir}/metadata.txt', 'a')\n",
    "\n",
    "## open all files in data/transcripts/processed. For each file, create a message using as many shots as given above. \n",
    "global_start = time.time()\n",
    "for file in os.listdir(transcripts_dir):\n",
    "    target = file.split('.')[0]\n",
    "    if target == \"catan\": continue\n",
    "    metadata.write(f\"Processing: {target}\\n\")\n",
    "    with open(f'{transcripts_dir}/{target}.txt', 'r', encoding='utf-8') as f_target_transcript:\n",
    "        messages = build_message(shots, target, 0, 7000)\n",
    "    inputs = tokenizer.apply_chat_template(messages, return_tensors=\"pt\").to(device)    \n",
    "    metadata.write(f\"    Tokens: {len(inputs[0])}\\n\")\n",
    "    ## An idea for later, do not include the oneshot prompt if we are only directly using transcript embedding\n",
    "    # start_token = len(inputs[0]) \n",
    "\n",
    "    with torch.no_grad():\n",
    "        start_time = time.time()\n",
    "        text = model.generate(inputs, max_new_tokens=3500, do_sample=True, pad_token_id=tokenizer.eos_token_id, temperature=0.5, top_k=50, top_p=0.90)\n",
    "        decoded = tokenizer.batch_decode(text)\n",
    "        print(f'Decoding finished: {target} in {round(time.time() - start_time, 3)} seconds')   \n",
    "        metadata.write(f\"    Decoding took: {round(time.time() - start_time, 3)} seconds\\n\")\n",
    "    ## obtain all tokens after the second \"[/INST]\" and remove the </s> token. Write this as our output.\n",
    "    with open(f'{outputs_dir}/text/{target}.txt', 'w', encoding='utf-8') as f:\n",
    "        f.write(decoded[0].split('[/INST]')[-1][1:-4])\n",
    "    metadata.write(f\"    Messages: {messages}\\n\")\n",
    "\n",
    "    ## Free up memory\n",
    "    del text\n",
    "    del decoded\n",
    "    torch.cuda.empty_cache()\n",
    "    print(f'cuda memory allocated: {torch.cuda.memory_allocated()/1024**3:.2f} GB', f'cuda memory cached: {torch.cuda.memory_cached()/1024**3:.2f} GB')\n",
    "    metadata.write(f'    cuda memory allocated: {torch.cuda.memory_allocated()/1024**3:.2f} GB, cuda memory cached: {torch.cuda.memory_reserved()/1024**3:.2f} GB\\n')\n",
    "\n",
    "metadata.write(f'Global runtime: {round(time.time() - global_start, 3)} seconds')\n",
    "metadata.close()\n"
   ]
  },
  {
   "cell_type": "code",
   "execution_count": 4,
   "metadata": {},
   "outputs": [],
   "source": [
    "# Create embeddings from outputs\n",
    "metadata = open(f'{outputs_dir}/metadata.txt', 'a')\n",
    "\n",
    "for file in os.listdir(f'{outputs_dir}/text'):\n",
    "    print(f'cuda memory allocated: {torch.cuda.memory_allocated()/1024**3:.2f} GB', f'cuda memory cached: {torch.cuda.memory_cached()/1024**3:.2f} GB')\n",
    "\n",
    "    target = file.split('.')[0]\n",
    "    start_time = time.time()\n",
    "    with open(f'{outputs_dir}/text/{target}.txt', 'r', encoding='utf-8') as f:\n",
    "        inputs = tokenizer(f.read(), return_tensors=\"pt\").to(device)     \n",
    "    with torch.no_grad():\n",
    "        hidden = model(**inputs, output_hidden_states=True)\n",
    "    print(f'Hidden states finished: {target} in {round(time.time() - start_time, 3)} seconds')\n",
    "    metadata.write(f\"Target: {target}, Hidden states took: {round(time.time() - start_time, 3)} seconds\\n\")\n",
    "\n",
    "    ## Write hidden states\n",
    "    ## Cut off all tokens before the first start token to remove oneshot and prompt.\n",
    "    tensor_t = hidden.hidden_states[-1].transpose(1,2)\n",
    "    # max_pool_t = torch.nn.functional.max_pool1d(tensor_t, tensor_t.shape[2])\n",
    "    # avg_pool_t = torch.nn.functional.avg_pool1d(tensor_t, tensor_t.shape[2])\n",
    "    max_pool = torch.nn.functional.max_pool1d(tensor_t, tensor_t.shape[2]).transpose(1, 2).squeeze()\n",
    "    avg_pool = torch.nn.functional.avg_pool1d(tensor_t, tensor_t.shape[2]).transpose(1, 2).squeeze()\n",
    "    print(max_pool.shape)\n",
    "    torch.save(max_pool, f'{outputs_dir}/embeddings/max_{target}.pt')\n",
    "    torch.save(avg_pool, f'{outputs_dir}/embeddings/avg_{target}.pt')\n",
    "\n",
    "    print(f'Target: {target} finished. Wrote to file.')\n",
    "    metadata.write(f'    Target: {target} tensor finished. Wrote to file.\\n')\n",
    "\n",
    "    del inputs\n",
    "    del hidden\n",
    "    del tensor_t\n",
    "    del max_pool\n",
    "    del avg_pool\n",
    "    print(f'cuda memory allocated: {torch.cuda.memory_allocated()/1024**3:.2f} GB', f'cuda memory cached: {torch.cuda.memory_cached()/1024**3:.2f} GB')\n",
    "    torch.cuda.empty_cache()"
   ]
  },
  {
   "cell_type": "code",
   "execution_count": 1,
   "metadata": {},
   "outputs": [],
   "source": [
    "### catan.txt\n",
    "## Clean transcript, with new lines\n",
    "## Char: 9388, Word: 1840, Tokens: 2483, Runtime: 3m 4.2s on Pytorch MPS, T/S = 13.5\n",
    "\n",
    "## Clean transcript, no new lines\n",
    "## Char: 9388, Word: 1840, Tokens: 2174, Runtime: 2m 43.9s on Pytorch MPS, T/S = 13.25\n",
    "\n",
    "## Clean transcript, charging\n",
    "## Char: 9388, Word: 1840, Tokens: 2174, Runtime: 2m 32.8s on Pytorch MPS\n",
    "\n",
    "#### On A10s\n",
    "# 8,000-token limit for Mistral-7B\n",
    "\n",
    "### catan.txt\n",
    "## Tokens: 2174, Runtime: 48.8s, T/S = 44.55\n",
    "\n",
    "### mixtral8x7b.txt\n",
    "## Tokens: 16981, Runtime: 13m 8.4s, T/S = 21.59\n",
    "\n",
    "### mlops_llm_eval.txt\n",
    "## Tokens: 10993, Runtime: 7m 5.1s, T/S = 25.87\n",
    "\n",
    "### typescript_fireship.txt\n",
    "## Tokens: 1042, Runtime: 27.6s, T/S = 37.75\n",
    "\n",
    "### localized_deployment.txt | Tokens: 892,\n",
    "## A10 // Runtime: 21.6s, T/S = 41.3\n",
    "## M1  // Runtime:\n"
   ]
  }
 ],
 "metadata": {
  "kernelspec": {
   "display_name": "Python 3 (ipykernel)",
   "language": "python",
   "name": "python3"
  },
  "language_info": {
   "codemirror_mode": {
    "name": "ipython",
    "version": 3
   },
   "file_extension": ".py",
   "mimetype": "text/x-python",
   "name": "python",
   "nbconvert_exporter": "python",
   "pygments_lexer": "ipython3",
   "version": "3.10.12"
  }
 },
 "nbformat": 4,
 "nbformat_minor": 2
}

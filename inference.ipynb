{
 "cells": [
  {
   "cell_type": "code",
   "execution_count": null,
   "metadata": {},
   "outputs": [],
   "source": [
    "import torch\n",
    "import os\n",
    "import json\n",
    "## Load Config\n",
    "with open('config/videos.json') as config_file:\n",
    "    videos = json.load(config_file)\n",
    "with open('config/name_to_url.json') as config_file:\n",
    "    name_to_url = json.load(config_file)\n"
   ]
  },
  {
   "cell_type": "code",
   "execution_count": null,
   "metadata": {},
   "outputs": [],
   "source": [
    "# Load model directly\n",
    "from transformers import AutoTokenizer, AutoModelForCausalLM\n",
    "\n",
    "torch.cuda.empty_cache()\n",
    "device = \"cuda:0\" if torch.cuda.is_available() else \"cpu\"\n",
    "tokenizer = AutoTokenizer.from_pretrained(\"mistralai/Mistral-7B-Instruct-v0.1\")\n",
    "model = AutoModelForCausalLM.from_pretrained(\"mistralai/Mistral-7B-Instruct-v0.1\", torch_dtype=torch.float16).to(device)\n",
    "\n",
    "# tokenizer = AutoTokenizer.from_pretrained(\"TabbyML/StarCoder-7B\")\n",
    "# model = AutoModelForCausalLM.from_pretrained(\"TabbyML/StarCoder-7B\")"
   ]
  },
  {
   "cell_type": "code",
   "execution_count": null,
   "metadata": {},
   "outputs": [],
   "source": [
    "## Single inference\n",
    "name = \"hashing\"\n",
    "input_name = \"mlops_llm_eval\"\n",
    "with open(f'data/transcripts/processed/{name}.txt') as f:\n",
    "    with open(f'prompt.txt', 'r') as f_prompt:\n",
    "        with open(f'data/input/{name}.txt', 'r') as f_input:\n",
    "            with open(f'data/transcripts/processed/{input_name}.txt', 'r') as f2:\n",
    "                prompt = f_prompt.read()\n",
    "                messages = [\n",
    "                    {\"role\": \"user\", \"content\": f'{prompt}{f.read()[0:5000]}'},\n",
    "                    {\"role\": \"assistant\", \"content\": f_input.read()},\n",
    "                    {\"role\": \"user\", \"content\": f'{prompt}{f2.read()[0:5000]}'}\n",
    "                ]\n",
    "                inputs = tokenizer.apply_chat_template(messages, return_tensors=\"pt\").to(device)\n",
    "\n"
   ]
  },
  {
   "cell_type": "code",
   "execution_count": null,
   "metadata": {},
   "outputs": [],
   "source": []
  },
  {
   "cell_type": "code",
   "execution_count": null,
   "metadata": {},
   "outputs": [],
   "source": [
    "## All Inference\n",
    "prompt = \"\"\n",
    "oneshot = \"\"\n",
    "with open(f'prompt.txt', 'r') as f_prompt:\n",
    "    prompt = f_prompt.read()\n",
    "with open(f'data/input/oneshot.txt') as f_os:\n",
    "    oneshot = f_os.read()\n",
    "\n",
    "# name, input\n",
    "inputs_dict = {}\n",
    "\n",
    "# open all files in data/transcripts/clean\n",
    "for file in os.listdir('data/transcripts/processed'):\n",
    "    with open(f'data/transcripts/processed/{file}', 'r') as f:\n",
    "        name = file.split('.')[0]\n",
    "        messages = [\n",
    "            {\"role\": \"user\", \"content\": f'{prompt}{f.read()[0:5000]}'},\n",
    "            {\"role\": \"assistant\", \"content\": oneshot}\n",
    "        ]\n",
    "        inputs = tokenizer.apply_chat_template(messages, return_tensors=\"pt\").to(device)\n",
    "        inputs_dict[name] = inputs\n",
    "        \n",
    "\n",
    "for name, input in inputs_dict.items():\n",
    "    print(f'Name: {name}, Tokens: {input[\"input_ids\"].shape}')"
   ]
  },
  {
   "cell_type": "code",
   "execution_count": null,
   "metadata": {},
   "outputs": [],
   "source": [
    "with torch.no_grad():\n",
    "    generated_ids = model.generate(inputs, max_new_tokens=1000, do_sample=True)\n",
    "    decoded = tokenizer.batch_decode(generated_ids)\n"
   ]
  },
  {
   "cell_type": "code",
   "execution_count": null,
   "metadata": {},
   "outputs": [],
   "source": [
    "with open(f'data/output/{input_name}1.txt', 'w') as f:\n",
    "    f.write(decoded[0])"
   ]
  },
  {
   "cell_type": "code",
   "execution_count": null,
   "metadata": {},
   "outputs": [],
   "source": [
    "### catan.txt\n",
    "## Clean transcript, with new lines\n",
    "## Char: 9388, Word: 1840, Tokens: 2483, Runtime: 3m 4.2s on Pytorch MPS, T/S = 13.5\n",
    "\n",
    "## Clean transcript, no new lines\n",
    "## Char: 9388, Word: 1840, Tokens: 2174, Runtime: 2m 43.9s on Pytorch MPS, T/S = 13.25\n",
    "\n",
    "## Clean transcript, charging\n",
    "## Char: 9388, Word: 1840, Tokens: 2174, Runtime: 2m 32.8s on Pytorch MPS\n",
    "\n",
    "#### On A10s\n",
    "# 8,000-token limit for Mistral-7B\n",
    "\n",
    "### catan.txt\n",
    "## Tokens: 2174, Runtime: 48.8s, T/S = 44.55\n",
    "\n",
    "### mixtral8x7b.txt\n",
    "## Tokens: 16981, Runtime: 13m 8.4s, T/S = 21.59\n",
    "\n",
    "### mlops_llm_eval.txt\n",
    "## Tokens: 10993, Runtime: 7m 5.1s, T/S = 25.87\n",
    "\n",
    "### typescript_fireship.txt\n",
    "## Tokens: 1042, Runtime: 27.6s, T/S = 37.75\n",
    "\n",
    "### localized_deployment.txt | Tokens: 892,\n",
    "## A10 // Runtime: 21.6s, T/S = 41.3\n",
    "## M1  // Runtime:\n"
   ]
  },
  {
   "cell_type": "code",
   "execution_count": null,
   "metadata": {},
   "outputs": [],
   "source": [
    "output_dict = {}"
   ]
  },
  {
   "cell_type": "code",
   "execution_count": null,
   "metadata": {},
   "outputs": [],
   "source": [
    "# Generate the output\n",
    "# name = \"localized_deployment.txt\"\n",
    "for name in inputs_dict.keys():\n",
    "    inputs = inputs_dict[name]\n",
    "\n",
    "    if os.path.exists(f'data/embeddings/{name}.pt'):\n",
    "        continue\n",
    "    \n",
    "    with torch.no_grad():\n",
    "        outputs = model(**inputs, output_hidden_states=True)\n",
    "        output_dict[name] = outputs\n",
    "        torch.save(outputs.hidden_states[-1], f'data/embeddings/{name}.pt')"
   ]
  },
  {
   "cell_type": "code",
   "execution_count": null,
   "metadata": {},
   "outputs": [],
   "source": [
    "output = output_dict[\"catan\"]"
   ]
  }
 ],
 "metadata": {
  "kernelspec": {
   "display_name": "Python 3 (ipykernel)",
   "language": "python",
   "name": "python3"
  },
  "language_info": {
   "codemirror_mode": {
    "name": "ipython",
    "version": 3
   },
   "file_extension": ".py",
   "mimetype": "text/x-python",
   "name": "python",
   "nbconvert_exporter": "python",
   "pygments_lexer": "ipython3",
   "version": "3.10.12"
  }
 },
 "nbformat": 4,
 "nbformat_minor": 2
}
